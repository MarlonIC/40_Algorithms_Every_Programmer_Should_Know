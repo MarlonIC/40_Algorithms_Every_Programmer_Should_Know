{
 "cells": [
  {
   "cell_type": "markdown",
   "metadata": {},
   "source": [
    "#### INTERCAMBIAR - SWAPPING"
   ]
  },
  {
   "cell_type": "code",
   "execution_count": 2,
   "metadata": {},
   "outputs": [],
   "source": [
    "var1 = 1"
   ]
  },
  {
   "cell_type": "code",
   "execution_count": 3,
   "metadata": {},
   "outputs": [],
   "source": [
    "var2 = 2"
   ]
  },
  {
   "cell_type": "code",
   "execution_count": 4,
   "metadata": {},
   "outputs": [],
   "source": [
    "var2, var1 = var1, var2"
   ]
  },
  {
   "cell_type": "code",
   "execution_count": 5,
   "metadata": {},
   "outputs": [
    {
     "name": "stdout",
     "output_type": "stream",
     "text": [
      "1 2\n"
     ]
    }
   ],
   "source": [
    "print(var2, var1)"
   ]
  },
  {
   "cell_type": "markdown",
   "metadata": {},
   "source": [
    "#### BUBBLE SORT - ORDENAMIENTO EN BURBUJA"
   ]
  },
  {
   "cell_type": "code",
   "execution_count": 6,
   "metadata": {},
   "outputs": [],
   "source": [
    "lista = [25, 21, 22, 24, 23, 27, 26]"
   ]
  },
  {
   "cell_type": "code",
   "execution_count": 7,
   "metadata": {},
   "outputs": [],
   "source": [
    "last_element_index = len(lista) - 1"
   ]
  },
  {
   "cell_type": "code",
   "execution_count": 8,
   "metadata": {},
   "outputs": [
    {
     "name": "stdout",
     "output_type": "stream",
     "text": [
      "6\n"
     ]
    }
   ],
   "source": [
    "print(last_element_index)"
   ]
  },
  {
   "cell_type": "code",
   "execution_count": 10,
   "metadata": {},
   "outputs": [
    {
     "name": "stdout",
     "output_type": "stream",
     "text": [
      "0 [25, 21, 22, 24, 23, 27, 26]\n",
      "1 [21, 25, 22, 24, 23, 27, 26]\n",
      "2 [21, 22, 25, 24, 23, 27, 26]\n",
      "3 [21, 22, 24, 25, 23, 27, 26]\n",
      "4 [21, 22, 24, 23, 25, 27, 26]\n",
      "5 [21, 22, 24, 23, 25, 27, 26]\n",
      "6 [21, 22, 24, 23, 25, 26, 27]\n"
     ]
    }
   ],
   "source": [
    "print(0, lista)\n",
    "for index in range(last_element_index):\n",
    "    if lista[index] > lista[index+1]:\n",
    "        lista[index], lista[index+1] = lista[index+1], lista[index]\n",
    "    print(index+1, lista)"
   ]
  },
  {
   "cell_type": "code",
   "execution_count": 11,
   "metadata": {},
   "outputs": [],
   "source": [
    "def bubble_sort(lista):\n",
    "    last_element_index = len(lista) - 1\n",
    "    for no_pasar in range(last_element_index, 0, -1):\n",
    "        for index in range(no_pasar):\n",
    "            if lista[index] > lista[index+1]:\n",
    "                lista[index], lista[index+1] = lista[index+1], lista[index]\n",
    "    return lista"
   ]
  },
  {
   "cell_type": "code",
   "execution_count": 12,
   "metadata": {},
   "outputs": [
    {
     "name": "stdout",
     "output_type": "stream",
     "text": [
      "[25, 21, 22, 24, 23, 27, 26]\n"
     ]
    }
   ],
   "source": [
    "lista = [25, 21, 22, 24, 23, 27, 26]\n",
    "print(lista)"
   ]
  },
  {
   "cell_type": "code",
   "execution_count": 14,
   "metadata": {},
   "outputs": [
    {
     "data": {
      "text/plain": [
       "[21, 22, 23, 24, 25, 26, 27]"
      ]
     },
     "execution_count": 14,
     "metadata": {},
     "output_type": "execute_result"
    }
   ],
   "source": [
    "bubble_sort(lista)"
   ]
  },
  {
   "cell_type": "code",
   "execution_count": null,
   "metadata": {},
   "outputs": [],
   "source": []
  }
 ],
 "metadata": {
  "kernelspec": {
   "display_name": "Python 3",
   "language": "python",
   "name": "python3"
  },
  "language_info": {
   "codemirror_mode": {
    "name": "ipython",
    "version": 3
   },
   "file_extension": ".py",
   "mimetype": "text/x-python",
   "name": "python",
   "nbconvert_exporter": "python",
   "pygments_lexer": "ipython3",
   "version": "3.8.5"
  }
 },
 "nbformat": 4,
 "nbformat_minor": 4
}
